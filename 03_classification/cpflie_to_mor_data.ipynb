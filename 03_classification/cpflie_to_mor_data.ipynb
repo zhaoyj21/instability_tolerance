{
 "cells": [
  {
   "cell_type": "code",
   "execution_count": 6,
   "id": "ac299e58",
   "metadata": {},
   "outputs": [
    {
     "name": "stdout",
     "output_type": "stream",
     "text": [
      "copy E:/res_data\\res_f_0.008_u0825\\pov_H0.008000AT1.829000/B19000.txt -> C:/Users/Administrator/Desktop/brain_project/mor_data/res_f_0.008_u0825/B19000.txt\n",
      "copy E:/res_data\\res_f_0.008_u085\\pov_H0.008000AT1.829000/B19000.txt -> C:/Users/Administrator/Desktop/brain_project/mor_data/res_f_0.008_u085/B19000.txt\n",
      "copy E:/res_data\\res_f_0.008_u09\\pov_H0.008000AT1.829000/B19000.txt -> C:/Users/Administrator/Desktop/brain_project/mor_data/res_f_0.008_u09/B19000.txt\n",
      "copy E:/res_data\\res_f_0.008_u0925\\pov_H0.008000AT1.829000/B19000.txt -> C:/Users/Administrator/Desktop/brain_project/mor_data/res_f_0.008_u0925/B19000.txt\n",
      "copy E:/res_data\\res_f_0.008_u1\\pov_H0.008000AT1.829000/B19000.txt -> C:/Users/Administrator/Desktop/brain_project/mor_data/res_f_0.008_u1/B19000.txt\n",
      "copy E:/res_data\\res_f_0.008_u1025\\pov_H0.008000AT1.829000/B19000.txt -> C:/Users/Administrator/Desktop/brain_project/mor_data/res_f_0.008_u1025/B19000.txt\n",
      "copy E:/res_data\\res_f_0.008_u105\\pov_H0.008000AT1.829000/B19000.txt -> C:/Users/Administrator/Desktop/brain_project/mor_data/res_f_0.008_u105/B19000.txt\n",
      "copy E:/res_data\\res_f_0.008_u11\\pov_H0.008000AT1.829000/B19000.txt -> C:/Users/Administrator/Desktop/brain_project/mor_data/res_f_0.008_u11/B19000.txt\n",
      "copy E:/res_data\\res_f_0.032_u0775\\pov_H0.032000AT1.829000/B19000.txt -> C:/Users/Administrator/Desktop/brain_project/mor_data/res_f_0.032_u0775/B19000.txt\n",
      "copy E:/res_data\\res_f_0.032_u08\\pov_H0.032000AT1.829000/B19000.txt -> C:/Users/Administrator/Desktop/brain_project/mor_data/res_f_0.032_u08/B19000.txt\n",
      "copy E:/res_data\\res_f_0.032_u0825\\pov_H0.032000AT1.829000/B19000.txt -> C:/Users/Administrator/Desktop/brain_project/mor_data/res_f_0.032_u0825/B19000.txt\n",
      "copy E:/res_data\\res_f_0.032_u085\\pov_H0.032000AT1.829000/B19000.txt -> C:/Users/Administrator/Desktop/brain_project/mor_data/res_f_0.032_u085/B19000.txt\n",
      "copy E:/res_data\\res_f_0.032_u0875\\pov_H0.032000AT1.829000/B19000.txt -> C:/Users/Administrator/Desktop/brain_project/mor_data/res_f_0.032_u0875/B19000.txt\n",
      "copy E:/res_data\\res_f_0.032_u09\\pov_H0.032000AT1.829000/B19000.txt -> C:/Users/Administrator/Desktop/brain_project/mor_data/res_f_0.032_u09/B19000.txt\n",
      "copy E:/res_data\\res_f_0.032_u0925\\pov_H0.032000AT1.829000/B19000.txt -> C:/Users/Administrator/Desktop/brain_project/mor_data/res_f_0.032_u0925/B19000.txt\n",
      "copy E:/res_data\\res_f_0.032_u095\\pov_H0.032000AT1.829000/B19000.txt -> C:/Users/Administrator/Desktop/brain_project/mor_data/res_f_0.032_u095/B19000.txt\n",
      "copy E:/res_data\\res_f_0.032_u1\\pov_H0.032000AT1.829000/B19000.txt -> C:/Users/Administrator/Desktop/brain_project/mor_data/res_f_0.032_u1/B19000.txt\n",
      "copy E:/res_data\\res_f_0.032_u1025\\pov_H0.032000AT1.829000/B19000.txt -> C:/Users/Administrator/Desktop/brain_project/mor_data/res_f_0.032_u1025/B19000.txt\n",
      "copy E:/res_data\\res_f_0.032_u105\\pov_H0.032000AT1.829000/B19000.txt -> C:/Users/Administrator/Desktop/brain_project/mor_data/res_f_0.032_u105/B19000.txt\n",
      "copy E:/res_data\\res_f_0.032_u11\\pov_H0.032000AT1.829000/B19000.txt -> C:/Users/Administrator/Desktop/brain_project/mor_data/res_f_0.032_u11/B19000.txt\n",
      "copy E:/res_data\\res_f_0.042_u075\\pov_H0.042000AT1.829000/B19000.txt -> C:/Users/Administrator/Desktop/brain_project/mor_data/res_f_0.042_u075/B19000.txt\n",
      "copy E:/res_data\\res_f_0.042_u0775\\pov_H0.042000AT1.829000/B19000.txt -> C:/Users/Administrator/Desktop/brain_project/mor_data/res_f_0.042_u0775/B19000.txt\n",
      "copy E:/res_data\\res_f_0.042_u08\\pov_H0.042000AT1.829000/B19000.txt -> C:/Users/Administrator/Desktop/brain_project/mor_data/res_f_0.042_u08/B19000.txt\n",
      "copy E:/res_data\\res_f_0.042_u0825\\pov_H0.042000AT1.829000/B19000.txt -> C:/Users/Administrator/Desktop/brain_project/mor_data/res_f_0.042_u0825/B19000.txt\n",
      "copy E:/res_data\\res_f_0.042_u085\\pov_H0.042000AT1.829000/B19000.txt -> C:/Users/Administrator/Desktop/brain_project/mor_data/res_f_0.042_u085/B19000.txt\n",
      "copy E:/res_data\\res_f_0.042_u0875\\pov_H0.042000AT1.829000/B19000.txt -> C:/Users/Administrator/Desktop/brain_project/mor_data/res_f_0.042_u0875/B19000.txt\n",
      "copy E:/res_data\\res_f_0.042_u09\\pov_H0.042000AT1.829000/B19000.txt -> C:/Users/Administrator/Desktop/brain_project/mor_data/res_f_0.042_u09/B19000.txt\n",
      "copy E:/res_data\\res_f_0.042_u0925\\pov_H0.042000AT1.829000/B19000.txt -> C:/Users/Administrator/Desktop/brain_project/mor_data/res_f_0.042_u0925/B19000.txt\n",
      "copy E:/res_data\\res_f_0.042_u095\\pov_H0.042000AT1.829000/B19000.txt -> C:/Users/Administrator/Desktop/brain_project/mor_data/res_f_0.042_u095/B19000.txt\n",
      "copy E:/res_data\\res_f_0.042_u1\\pov_H0.042000AT1.829000/B19000.txt -> C:/Users/Administrator/Desktop/brain_project/mor_data/res_f_0.042_u1/B19000.txt\n",
      "copy E:/res_data\\res_f_0.042_u1025\\pov_H0.042000AT1.829000/B19000.txt -> C:/Users/Administrator/Desktop/brain_project/mor_data/res_f_0.042_u1025/B19000.txt\n",
      "copy E:/res_data\\res_f_0.042_u105\\pov_H0.042000AT1.829000/B19000.txt -> C:/Users/Administrator/Desktop/brain_project/mor_data/res_f_0.042_u105/B19000.txt\n",
      "copy E:/res_data\\res_f_0.042_u11\\pov_H0.042000AT1.829000/B19000.txt -> C:/Users/Administrator/Desktop/brain_project/mor_data/res_f_0.042_u11/B19000.txt\n",
      "copy E:/res_data\\res_f_0.043_u09\\pov_H0.043000AT1.829000/B19000.txt -> C:/Users/Administrator/Desktop/brain_project/mor_data/res_f_0.043_u09/B19000.txt\n",
      "copy E:/res_data\\res_f_0.043_u11\\pov_H0.043000AT1.829000/B19000.txt -> C:/Users/Administrator/Desktop/brain_project/mor_data/res_f_0.043_u11/B19000.txt\n",
      "copy E:/res_data\\res_f_0.072_u075\\pov_H0.072000AT1.829000/B19000.txt -> C:/Users/Administrator/Desktop/brain_project/mor_data/res_f_0.072_u075/B19000.txt\n",
      "copy E:/res_data\\res_f_0.072_u0775\\pov_H0.072000AT1.829000/B19000.txt -> C:/Users/Administrator/Desktop/brain_project/mor_data/res_f_0.072_u0775/B19000.txt\n",
      "copy E:/res_data\\res_f_0.072_u08\\pov_H0.072000AT1.829000/B19000.txt -> C:/Users/Administrator/Desktop/brain_project/mor_data/res_f_0.072_u08/B19000.txt\n",
      "copy E:/res_data\\res_f_0.072_u0825\\pov_H0.072000AT1.829000/B19000.txt -> C:/Users/Administrator/Desktop/brain_project/mor_data/res_f_0.072_u0825/B19000.txt\n",
      "copy E:/res_data\\res_f_0.072_u085\\pov_H0.072000AT1.829000/B19000.txt -> C:/Users/Administrator/Desktop/brain_project/mor_data/res_f_0.072_u085/B19000.txt\n",
      "copy E:/res_data\\res_f_0.072_u0875\\pov_H0.072000AT1.829000/B19000.txt -> C:/Users/Administrator/Desktop/brain_project/mor_data/res_f_0.072_u0875/B19000.txt\n",
      "copy E:/res_data\\res_f_0.072_u09\\pov_H0.072000AT1.829000/B19000.txt -> C:/Users/Administrator/Desktop/brain_project/mor_data/res_f_0.072_u09/B19000.txt\n",
      "copy E:/res_data\\res_f_0.072_u0925\\pov_H0.072000AT1.829000/B19000.txt -> C:/Users/Administrator/Desktop/brain_project/mor_data/res_f_0.072_u0925/B19000.txt\n",
      "copy E:/res_data\\res_f_0.072_u095\\pov_H0.072000AT1.829000/B19000.txt -> C:/Users/Administrator/Desktop/brain_project/mor_data/res_f_0.072_u095/B19000.txt\n",
      "copy E:/res_data\\res_f_0.072_u1\\pov_H0.072000AT1.829000/B19000.txt -> C:/Users/Administrator/Desktop/brain_project/mor_data/res_f_0.072_u1/B19000.txt\n",
      "copy E:/res_data\\res_f_0.072_u1025\\pov_H0.072000AT1.829000/B19000.txt -> C:/Users/Administrator/Desktop/brain_project/mor_data/res_f_0.072_u1025/B19000.txt\n",
      "copy E:/res_data\\res_f_0.072_u105\\pov_H0.072000AT1.829000/B19000.txt -> C:/Users/Administrator/Desktop/brain_project/mor_data/res_f_0.072_u105/B19000.txt\n",
      "copy E:/res_data\\res_f_0.072_u11\\pov_H0.072000AT1.829000/B19000.txt -> C:/Users/Administrator/Desktop/brain_project/mor_data/res_f_0.072_u11/B19000.txt\n"
     ]
    }
   ],
   "source": [
    "import os\n",
    "import numpy as np\n",
    "\n",
    "import shutil\n",
    "def mycopyfile(srcfile,dstpath):                       \n",
    "    if not os.path.isfile(srcfile):\n",
    "        print (\"%s not exist!\"%(srcfile))\n",
    "    else:\n",
    "        fpath,fname=os.path.split(srcfile)             \n",
    "        if not os.path.exists(dstpath):\n",
    "            os.makedirs(dstpath)                       \n",
    "        shutil.copy(srcfile, dstpath + fname)          \n",
    "        print (\"copy %s -> %s\"%(srcfile, dstpath + fname))\n",
    "\n",
    "folder_list = os.listdir('E:/res_data')\n",
    "\n",
    "for folder in folder_list:\n",
    "    thickness = folder.split('_')[2]\n",
    "    u = folder.split('_')[3]\n",
    "    folder_path = os.path.join('E:/res_data',folder)\n",
    "    file_path = 'pov_H'+thickness+'000AT1.829000'\n",
    "    file_path_ab = os.path.join(folder_path,file_path)\n",
    "    data_path = file_path_ab + '/B19000.txt'\n",
    "    save_path = \"C:/Users/Administrator/Desktop/brain_project/mor_data/\"+ folder +'/'\n",
    "    mycopyfile(data_path, save_path)"
   ]
  },
  {
   "cell_type": "code",
   "execution_count": null,
   "id": "4c8aa6da",
   "metadata": {},
   "outputs": [],
   "source": []
  }
 ],
 "metadata": {
  "kernelspec": {
   "display_name": "Python 3 (ipykernel)",
   "language": "python",
   "name": "python3"
  },
  "language_info": {
   "codemirror_mode": {
    "name": "ipython",
    "version": 3
   },
   "file_extension": ".py",
   "mimetype": "text/x-python",
   "name": "python",
   "nbconvert_exporter": "python",
   "pygments_lexer": "ipython3",
   "version": "3.9.7"
  }
 },
 "nbformat": 4,
 "nbformat_minor": 5
}
