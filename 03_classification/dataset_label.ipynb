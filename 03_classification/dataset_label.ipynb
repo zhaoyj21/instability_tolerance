{
 "cells": [
  {
   "cell_type": "code",
   "execution_count": 1,
   "id": "7d64fd5b",
   "metadata": {},
   "outputs": [],
   "source": [
    "import os \n",
    "import numpy as np\n",
    "import shutil\n",
    "label_path = 'C:/Users/Administrator/Desktop/brain_code/02_cluster/label.txt'\n",
    "label = np.loadtxt(label_path)"
   ]
  },
  {
   "cell_type": "code",
   "execution_count": 2,
   "id": "f8dd9eaf",
   "metadata": {},
   "outputs": [],
   "source": [
    "def mycopyfile(srcfile,dstpath):                       \n",
    "    if not os.path.isfile(srcfile):\n",
    "        print (\"%s not exist!\"%(srcfile))\n",
    "    else:\n",
    "        fpath,fname=os.path.split(srcfile)             \n",
    "        if not os.path.exists(dstpath):\n",
    "            os.makedirs(dstpath)                       \n",
    "        shutil.copy(srcfile, dstpath + fname)          \n",
    "        print (\"copy %s -> %s\"%(srcfile, dstpath + fname))"
   ]
  },
  {
   "cell_type": "code",
   "execution_count": 3,
   "id": "c333788f",
   "metadata": {},
   "outputs": [
    {
     "name": "stdout",
     "output_type": "stream",
     "text": [
      "copy C:/Users/Administrator/Desktop/brain_code/03_classification/dataset/e_0.022_u1.txt -> C:/Users/Administrator/Desktop/brain_code/03_classification/dataset_label/1/e_0.022_u1.txt\n",
      "copy C:/Users/Administrator/Desktop/brain_code/03_classification/dataset/e_0.024_u1.txt -> C:/Users/Administrator/Desktop/brain_code/03_classification/dataset_label/1/e_0.024_u1.txt\n",
      "copy C:/Users/Administrator/Desktop/brain_code/03_classification/dataset/e_0.026_u1.txt -> C:/Users/Administrator/Desktop/brain_code/03_classification/dataset_label/1/e_0.026_u1.txt\n",
      "copy C:/Users/Administrator/Desktop/brain_code/03_classification/dataset/e_0.028_u1.txt -> C:/Users/Administrator/Desktop/brain_code/03_classification/dataset_label/3/e_0.028_u1.txt\n",
      "copy C:/Users/Administrator/Desktop/brain_code/03_classification/dataset/e_0.030_u1.txt -> C:/Users/Administrator/Desktop/brain_code/03_classification/dataset_label/3/e_0.030_u1.txt\n",
      "copy C:/Users/Administrator/Desktop/brain_code/03_classification/dataset/e_0.034_u1.txt -> C:/Users/Administrator/Desktop/brain_code/03_classification/dataset_label/3/e_0.034_u1.txt\n",
      "copy C:/Users/Administrator/Desktop/brain_code/03_classification/dataset/e_0.036_u1.txt -> C:/Users/Administrator/Desktop/brain_code/03_classification/dataset_label/2/e_0.036_u1.txt\n",
      "copy C:/Users/Administrator/Desktop/brain_code/03_classification/dataset/e_0.038_u1.txt -> C:/Users/Administrator/Desktop/brain_code/03_classification/dataset_label/2/e_0.038_u1.txt\n",
      "copy C:/Users/Administrator/Desktop/brain_code/03_classification/dataset/e_0.040_u1.txt -> C:/Users/Administrator/Desktop/brain_code/03_classification/dataset_label/2/e_0.040_u1.txt\n",
      "copy C:/Users/Administrator/Desktop/brain_code/03_classification/dataset/e_0.047_u1.txt -> C:/Users/Administrator/Desktop/brain_code/03_classification/dataset_label/2/e_0.047_u1.txt\n",
      "copy C:/Users/Administrator/Desktop/brain_code/03_classification/dataset/e_0.052_u1.txt -> C:/Users/Administrator/Desktop/brain_code/03_classification/dataset_label/0/e_0.052_u1.txt\n",
      "copy C:/Users/Administrator/Desktop/brain_code/03_classification/dataset/e_0.057_u1.txt -> C:/Users/Administrator/Desktop/brain_code/03_classification/dataset_label/0/e_0.057_u1.txt\n",
      "copy C:/Users/Administrator/Desktop/brain_code/03_classification/dataset/e_0.062_u1.txt -> C:/Users/Administrator/Desktop/brain_code/03_classification/dataset_label/0/e_0.062_u1.txt\n",
      "copy C:/Users/Administrator/Desktop/brain_code/03_classification/dataset/e_0.067_u1.txt -> C:/Users/Administrator/Desktop/brain_code/03_classification/dataset_label/0/e_0.067_u1.txt\n",
      "copy C:/Users/Administrator/Desktop/brain_code/03_classification/dataset/e_0.082_u1.txt -> C:/Users/Administrator/Desktop/brain_code/03_classification/dataset_label/0/e_0.082_u1.txt\n",
      "copy C:/Users/Administrator/Desktop/brain_code/03_classification/dataset/res_f_0.008_u0825.txt -> C:/Users/Administrator/Desktop/brain_code/03_classification/dataset_label/1/res_f_0.008_u0825.txt\n",
      "copy C:/Users/Administrator/Desktop/brain_code/03_classification/dataset/res_f_0.008_u085.txt -> C:/Users/Administrator/Desktop/brain_code/03_classification/dataset_label/1/res_f_0.008_u085.txt\n",
      "copy C:/Users/Administrator/Desktop/brain_code/03_classification/dataset/res_f_0.008_u09.txt -> C:/Users/Administrator/Desktop/brain_code/03_classification/dataset_label/1/res_f_0.008_u09.txt\n",
      "copy C:/Users/Administrator/Desktop/brain_code/03_classification/dataset/res_f_0.008_u0925.txt -> C:/Users/Administrator/Desktop/brain_code/03_classification/dataset_label/1/res_f_0.008_u0925.txt\n",
      "copy C:/Users/Administrator/Desktop/brain_code/03_classification/dataset/res_f_0.008_u1.txt -> C:/Users/Administrator/Desktop/brain_code/03_classification/dataset_label/1/res_f_0.008_u1.txt\n",
      "copy C:/Users/Administrator/Desktop/brain_code/03_classification/dataset/res_f_0.008_u1025.txt -> C:/Users/Administrator/Desktop/brain_code/03_classification/dataset_label/1/res_f_0.008_u1025.txt\n",
      "copy C:/Users/Administrator/Desktop/brain_code/03_classification/dataset/res_f_0.008_u105.txt -> C:/Users/Administrator/Desktop/brain_code/03_classification/dataset_label/1/res_f_0.008_u105.txt\n",
      "copy C:/Users/Administrator/Desktop/brain_code/03_classification/dataset/res_f_0.008_u11.txt -> C:/Users/Administrator/Desktop/brain_code/03_classification/dataset_label/1/res_f_0.008_u11.txt\n",
      "copy C:/Users/Administrator/Desktop/brain_code/03_classification/dataset/res_f_0.032_u0775.txt -> C:/Users/Administrator/Desktop/brain_code/03_classification/dataset_label/3/res_f_0.032_u0775.txt\n",
      "copy C:/Users/Administrator/Desktop/brain_code/03_classification/dataset/res_f_0.032_u08.txt -> C:/Users/Administrator/Desktop/brain_code/03_classification/dataset_label/3/res_f_0.032_u08.txt\n",
      "copy C:/Users/Administrator/Desktop/brain_code/03_classification/dataset/res_f_0.032_u0825.txt -> C:/Users/Administrator/Desktop/brain_code/03_classification/dataset_label/3/res_f_0.032_u0825.txt\n",
      "copy C:/Users/Administrator/Desktop/brain_code/03_classification/dataset/res_f_0.032_u085.txt -> C:/Users/Administrator/Desktop/brain_code/03_classification/dataset_label/3/res_f_0.032_u085.txt\n",
      "copy C:/Users/Administrator/Desktop/brain_code/03_classification/dataset/res_f_0.032_u0875.txt -> C:/Users/Administrator/Desktop/brain_code/03_classification/dataset_label/3/res_f_0.032_u0875.txt\n",
      "copy C:/Users/Administrator/Desktop/brain_code/03_classification/dataset/res_f_0.032_u09.txt -> C:/Users/Administrator/Desktop/brain_code/03_classification/dataset_label/3/res_f_0.032_u09.txt\n",
      "copy C:/Users/Administrator/Desktop/brain_code/03_classification/dataset/res_f_0.032_u0925.txt -> C:/Users/Administrator/Desktop/brain_code/03_classification/dataset_label/3/res_f_0.032_u0925.txt\n",
      "copy C:/Users/Administrator/Desktop/brain_code/03_classification/dataset/res_f_0.032_u095.txt -> C:/Users/Administrator/Desktop/brain_code/03_classification/dataset_label/3/res_f_0.032_u095.txt\n",
      "copy C:/Users/Administrator/Desktop/brain_code/03_classification/dataset/res_f_0.032_u1.txt -> C:/Users/Administrator/Desktop/brain_code/03_classification/dataset_label/3/res_f_0.032_u1.txt\n",
      "copy C:/Users/Administrator/Desktop/brain_code/03_classification/dataset/res_f_0.032_u1025.txt -> C:/Users/Administrator/Desktop/brain_code/03_classification/dataset_label/3/res_f_0.032_u1025.txt\n",
      "copy C:/Users/Administrator/Desktop/brain_code/03_classification/dataset/res_f_0.032_u105.txt -> C:/Users/Administrator/Desktop/brain_code/03_classification/dataset_label/3/res_f_0.032_u105.txt\n",
      "copy C:/Users/Administrator/Desktop/brain_code/03_classification/dataset/res_f_0.032_u11.txt -> C:/Users/Administrator/Desktop/brain_code/03_classification/dataset_label/3/res_f_0.032_u11.txt\n",
      "copy C:/Users/Administrator/Desktop/brain_code/03_classification/dataset/res_f_0.042_u075.txt -> C:/Users/Administrator/Desktop/brain_code/03_classification/dataset_label/2/res_f_0.042_u075.txt\n",
      "copy C:/Users/Administrator/Desktop/brain_code/03_classification/dataset/res_f_0.042_u0775.txt -> C:/Users/Administrator/Desktop/brain_code/03_classification/dataset_label/2/res_f_0.042_u0775.txt\n",
      "copy C:/Users/Administrator/Desktop/brain_code/03_classification/dataset/res_f_0.042_u08.txt -> C:/Users/Administrator/Desktop/brain_code/03_classification/dataset_label/2/res_f_0.042_u08.txt\n",
      "copy C:/Users/Administrator/Desktop/brain_code/03_classification/dataset/res_f_0.042_u0825.txt -> C:/Users/Administrator/Desktop/brain_code/03_classification/dataset_label/2/res_f_0.042_u0825.txt\n",
      "copy C:/Users/Administrator/Desktop/brain_code/03_classification/dataset/res_f_0.042_u085.txt -> C:/Users/Administrator/Desktop/brain_code/03_classification/dataset_label/2/res_f_0.042_u085.txt\n",
      "copy C:/Users/Administrator/Desktop/brain_code/03_classification/dataset/res_f_0.042_u0875.txt -> C:/Users/Administrator/Desktop/brain_code/03_classification/dataset_label/2/res_f_0.042_u0875.txt\n",
      "copy C:/Users/Administrator/Desktop/brain_code/03_classification/dataset/res_f_0.042_u09.txt -> C:/Users/Administrator/Desktop/brain_code/03_classification/dataset_label/2/res_f_0.042_u09.txt\n",
      "copy C:/Users/Administrator/Desktop/brain_code/03_classification/dataset/res_f_0.042_u0925.txt -> C:/Users/Administrator/Desktop/brain_code/03_classification/dataset_label/2/res_f_0.042_u0925.txt\n",
      "copy C:/Users/Administrator/Desktop/brain_code/03_classification/dataset/res_f_0.042_u095.txt -> C:/Users/Administrator/Desktop/brain_code/03_classification/dataset_label/2/res_f_0.042_u095.txt\n",
      "copy C:/Users/Administrator/Desktop/brain_code/03_classification/dataset/res_f_0.042_u1.txt -> C:/Users/Administrator/Desktop/brain_code/03_classification/dataset_label/2/res_f_0.042_u1.txt\n",
      "copy C:/Users/Administrator/Desktop/brain_code/03_classification/dataset/res_f_0.042_u1025.txt -> C:/Users/Administrator/Desktop/brain_code/03_classification/dataset_label/2/res_f_0.042_u1025.txt\n",
      "copy C:/Users/Administrator/Desktop/brain_code/03_classification/dataset/res_f_0.042_u105.txt -> C:/Users/Administrator/Desktop/brain_code/03_classification/dataset_label/2/res_f_0.042_u105.txt\n",
      "copy C:/Users/Administrator/Desktop/brain_code/03_classification/dataset/res_f_0.042_u11.txt -> C:/Users/Administrator/Desktop/brain_code/03_classification/dataset_label/2/res_f_0.042_u11.txt\n",
      "copy C:/Users/Administrator/Desktop/brain_code/03_classification/dataset/res_f_0.043_u09.txt -> C:/Users/Administrator/Desktop/brain_code/03_classification/dataset_label/2/res_f_0.043_u09.txt\n",
      "copy C:/Users/Administrator/Desktop/brain_code/03_classification/dataset/res_f_0.043_u11.txt -> C:/Users/Administrator/Desktop/brain_code/03_classification/dataset_label/2/res_f_0.043_u11.txt\n",
      "copy C:/Users/Administrator/Desktop/brain_code/03_classification/dataset/res_f_0.072_u075.txt -> C:/Users/Administrator/Desktop/brain_code/03_classification/dataset_label/0/res_f_0.072_u075.txt\n",
      "copy C:/Users/Administrator/Desktop/brain_code/03_classification/dataset/res_f_0.072_u0775.txt -> C:/Users/Administrator/Desktop/brain_code/03_classification/dataset_label/0/res_f_0.072_u0775.txt\n",
      "copy C:/Users/Administrator/Desktop/brain_code/03_classification/dataset/res_f_0.072_u08.txt -> C:/Users/Administrator/Desktop/brain_code/03_classification/dataset_label/0/res_f_0.072_u08.txt\n",
      "copy C:/Users/Administrator/Desktop/brain_code/03_classification/dataset/res_f_0.072_u0825.txt -> C:/Users/Administrator/Desktop/brain_code/03_classification/dataset_label/0/res_f_0.072_u0825.txt\n",
      "copy C:/Users/Administrator/Desktop/brain_code/03_classification/dataset/res_f_0.072_u085.txt -> C:/Users/Administrator/Desktop/brain_code/03_classification/dataset_label/0/res_f_0.072_u085.txt\n",
      "copy C:/Users/Administrator/Desktop/brain_code/03_classification/dataset/res_f_0.072_u0875.txt -> C:/Users/Administrator/Desktop/brain_code/03_classification/dataset_label/0/res_f_0.072_u0875.txt\n",
      "copy C:/Users/Administrator/Desktop/brain_code/03_classification/dataset/res_f_0.072_u09.txt -> C:/Users/Administrator/Desktop/brain_code/03_classification/dataset_label/0/res_f_0.072_u09.txt\n",
      "copy C:/Users/Administrator/Desktop/brain_code/03_classification/dataset/res_f_0.072_u0925.txt -> C:/Users/Administrator/Desktop/brain_code/03_classification/dataset_label/0/res_f_0.072_u0925.txt\n",
      "copy C:/Users/Administrator/Desktop/brain_code/03_classification/dataset/res_f_0.072_u095.txt -> C:/Users/Administrator/Desktop/brain_code/03_classification/dataset_label/0/res_f_0.072_u095.txt\n",
      "copy C:/Users/Administrator/Desktop/brain_code/03_classification/dataset/res_f_0.072_u1.txt -> C:/Users/Administrator/Desktop/brain_code/03_classification/dataset_label/0/res_f_0.072_u1.txt\n",
      "copy C:/Users/Administrator/Desktop/brain_code/03_classification/dataset/res_f_0.072_u1025.txt -> C:/Users/Administrator/Desktop/brain_code/03_classification/dataset_label/0/res_f_0.072_u1025.txt\n",
      "copy C:/Users/Administrator/Desktop/brain_code/03_classification/dataset/res_f_0.072_u105.txt -> C:/Users/Administrator/Desktop/brain_code/03_classification/dataset_label/0/res_f_0.072_u105.txt\n",
      "copy C:/Users/Administrator/Desktop/brain_code/03_classification/dataset/res_f_0.072_u11.txt -> C:/Users/Administrator/Desktop/brain_code/03_classification/dataset_label/0/res_f_0.072_u11.txt\n"
     ]
    },
    {
     "ename": "IndexError",
     "evalue": "index 63 is out of bounds for axis 0 with size 63",
     "output_type": "error",
     "traceback": [
      "\u001b[1;31m---------------------------------------------------------------------------\u001b[0m",
      "\u001b[1;31mIndexError\u001b[0m                                Traceback (most recent call last)",
      "\u001b[1;32m~\\AppData\\Local\\Temp/ipykernel_7964/3157176678.py\u001b[0m in \u001b[0;36m<module>\u001b[1;34m\u001b[0m\n\u001b[0;32m      8\u001b[0m \u001b[0mfile_list\u001b[0m\u001b[1;33m.\u001b[0m\u001b[0msort\u001b[0m\u001b[1;33m(\u001b[0m\u001b[1;33m)\u001b[0m\u001b[1;33m\u001b[0m\u001b[1;33m\u001b[0m\u001b[0m\n\u001b[0;32m      9\u001b[0m \u001b[1;32mfor\u001b[0m \u001b[0mi\u001b[0m \u001b[1;32min\u001b[0m \u001b[0mrange\u001b[0m\u001b[1;33m(\u001b[0m\u001b[0mnum_sample\u001b[0m\u001b[1;33m)\u001b[0m\u001b[1;33m:\u001b[0m\u001b[1;33m\u001b[0m\u001b[1;33m\u001b[0m\u001b[0m\n\u001b[1;32m---> 10\u001b[1;33m     \u001b[1;32mif\u001b[0m \u001b[0mlabel\u001b[0m\u001b[1;33m[\u001b[0m\u001b[0mi\u001b[0m\u001b[1;33m]\u001b[0m\u001b[1;33m==\u001b[0m\u001b[1;36m0\u001b[0m\u001b[1;33m:\u001b[0m\u001b[1;33m\u001b[0m\u001b[1;33m\u001b[0m\u001b[0m\n\u001b[0m\u001b[0;32m     11\u001b[0m         \u001b[0msave_path\u001b[0m \u001b[1;33m=\u001b[0m \u001b[0msave_path0\u001b[0m\u001b[1;33m\u001b[0m\u001b[1;33m\u001b[0m\u001b[0m\n\u001b[0;32m     12\u001b[0m         \u001b[0mdata_path\u001b[0m \u001b[1;33m=\u001b[0m \u001b[0mdataset_path\u001b[0m \u001b[1;33m+\u001b[0m \u001b[0mfile_list\u001b[0m\u001b[1;33m[\u001b[0m\u001b[0mi\u001b[0m\u001b[1;33m]\u001b[0m\u001b[1;33m\u001b[0m\u001b[1;33m\u001b[0m\u001b[0m\n",
      "\u001b[1;31mIndexError\u001b[0m: index 63 is out of bounds for axis 0 with size 63"
     ]
    }
   ],
   "source": [
    "num_sample = 81\n",
    "dataset_path = 'C:/Users/Administrator/Desktop/brain_code/03_classification/dataset/'\n",
    "save_path0 = 'C:/Users/Administrator/Desktop/brain_code/03_classification/dataset_label/0/'\n",
    "save_path1 = 'C:/Users/Administrator/Desktop/brain_code/03_classification/dataset_label/1/'\n",
    "save_path2 = 'C:/Users/Administrator/Desktop/brain_code/03_classification/dataset_label/2/'\n",
    "save_path3 = 'C:/Users/Administrator/Desktop/brain_code/03_classification/dataset_label/3/'\n",
    "file_list = os.listdir(dataset_path)\n",
    "file_list.sort()\n",
    "for i in range(num_sample):\n",
    "    if label[i]==0:\n",
    "        save_path = save_path0\n",
    "        data_path = dataset_path + file_list[i]\n",
    "        mycopyfile(data_path, save_path)\n",
    "    elif label[i]==1:\n",
    "        save_path = save_path1\n",
    "        data_path = dataset_path + file_list[i]\n",
    "        mycopyfile(data_path, save_path)\n",
    "    elif label[i]==2:\n",
    "        save_path = save_path2\n",
    "        data_path = dataset_path + file_list[i]\n",
    "        mycopyfile(data_path, save_path)\n",
    "    else:\n",
    "        save_path = save_path3\n",
    "        data_path = dataset_path + file_list[i]\n",
    "        mycopyfile(data_path, save_path)\n",
    "    "
   ]
  },
  {
   "cell_type": "code",
   "execution_count": null,
   "id": "5e3bcd4f",
   "metadata": {},
   "outputs": [],
   "source": []
  }
 ],
 "metadata": {
  "kernelspec": {
   "display_name": "Python 3 (ipykernel)",
   "language": "python",
   "name": "python3"
  },
  "language_info": {
   "codemirror_mode": {
    "name": "ipython",
    "version": 3
   },
   "file_extension": ".py",
   "mimetype": "text/x-python",
   "name": "python",
   "nbconvert_exporter": "python",
   "pygments_lexer": "ipython3",
   "version": "3.9.7"
  }
 },
 "nbformat": 4,
 "nbformat_minor": 5
}
