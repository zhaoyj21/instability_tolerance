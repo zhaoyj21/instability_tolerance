{
 "cells": [
  {
   "cell_type": "code",
   "execution_count": 6,
   "id": "840c6045",
   "metadata": {},
   "outputs": [],
   "source": [
    "import numpy as np\n",
    "import os \n",
    "\n",
    "def reduce(path):\n",
    "    xyzs=[]\n",
    "    with open(path, \"r\") as f:\n",
    "        for line in f.readlines()[8:]:\n",
    "                p=[]\n",
    "                line = line.strip('\\n')\n",
    "                a=line.split(\" \")\n",
    "                p.append(float(a[0]))\n",
    "                p.append(float(a[1]))\n",
    "                p.append(float(a[2]))\n",
    "                xyzs.append(p)\n",
    "                \n",
    "    return xyzs\n",
    "\n",
    "train_X_pre = []\n",
    "train_Y_pre = []\n",
    "path1 = 'C:/Users/Administrator/Desktop/res_lstm2'\n",
    "folder_list = os.listdir(path1)\n",
    "for folder in folder_list:\n",
    "    thickness = folder.split('_')[2]\n",
    "    u = folder.split('_')[3]\n",
    "    path2 = os.path.join(path1,folder)\n",
    "    filelist1 = os.listdir(path2)\n",
    "    filelist = sorted(filelist1, key=lambda info: (int(info[0:-4].split('_')[3]), info[-4:]))\n",
    "    for i in range(6):\n",
    "        train_X_pre.append(reduce(os.path.join(path2, filelist[i])))\n",
    "        train_X_pre.append(reduce(os.path.join(path2, filelist[i+1])))\n",
    "        train_Y_pre.append(reduce(os.path.join(path2, filelist[i+2])))\n",
    "        train_Y_pre.append(reduce(os.path.join(path2, filelist[i+3])))\n",
    "        train_Y_pre.append(reduce(os.path.join(path2, filelist[i+4])))\n",
    "        train_Y_pre.append(reduce(os.path.join(path2, filelist[i+5])))\n",
    "        train_Y_pre.append(reduce(os.path.join(path2, filelist[i+6])))\n",
    "        train_Y_pre.append(reduce(os.path.join(path2, filelist[i+7])))        "
   ]
  },
  {
   "cell_type": "code",
   "execution_count": 7,
   "id": "7bdcfbd9",
   "metadata": {},
   "outputs": [],
   "source": [
    "train_X_pre_array = np.array(train_X_pre)\n",
    "train_Y_pre_array = np.array(train_Y_pre)"
   ]
  },
  {
   "cell_type": "code",
   "execution_count": 8,
   "id": "4d2a2a8c",
   "metadata": {},
   "outputs": [
    {
     "data": {
      "text/plain": [
       "(480, 8759, 3)"
      ]
     },
     "execution_count": 8,
     "metadata": {},
     "output_type": "execute_result"
    }
   ],
   "source": [
    "train_X_pre_array.shape"
   ]
  },
  {
   "cell_type": "code",
   "execution_count": 9,
   "id": "b78aaaf4",
   "metadata": {},
   "outputs": [
    {
     "data": {
      "text/plain": [
       "(1440, 8759, 3)"
      ]
     },
     "execution_count": 9,
     "metadata": {},
     "output_type": "execute_result"
    }
   ],
   "source": [
    "train_Y_pre_array.shape"
   ]
  },
  {
   "cell_type": "code",
   "execution_count": 11,
   "id": "55327165",
   "metadata": {},
   "outputs": [],
   "source": [
    "np.save('F:/train_X_pre.npy', train_X_pre_array)\n",
    "np.save('F:/train_Y_pre.npy', train_Y_pre_array)"
   ]
  },
  {
   "cell_type": "code",
   "execution_count": 2,
   "id": "ec7fbcd8",
   "metadata": {},
   "outputs": [],
   "source": [
    "import numpy as np\n",
    "import os \n",
    "\n",
    "def reduce(path):\n",
    "    xyzs=[]\n",
    "    with open(path, \"r\") as f:\n",
    "        for line in f.readlines()[8:]:\n",
    "                p=[]\n",
    "                line = line.strip('\\n')\n",
    "                a=line.split(\" \")\n",
    "                p.append(float(a[0]))\n",
    "                p.append(float(a[1]))\n",
    "                p.append(float(a[2]))\n",
    "                xyzs.append(p)\n",
    "                \n",
    "    return xyzs\n",
    "\n",
    "test_X_pre = []\n",
    "test_Y_pre = []\n",
    "path1 = 'C:/Users/Administrator/Desktop/res_lstm2_test'\n",
    "folder_list = os.listdir(path1)\n",
    "for folder in folder_list:\n",
    "    thickness = folder.split('_')[2]\n",
    "    u = folder.split('_')[3]\n",
    "    path2 = os.path.join(path1,folder)\n",
    "    filelist1 = os.listdir(path2)\n",
    "    filelist = sorted(filelist1, key=lambda info: (int(info[0:-4].split('_')[3]), info[-4:]))\n",
    "    for i in range(6):\n",
    "        test_X_pre.append(reduce(os.path.join(path2, filelist[i])))\n",
    "        test_X_pre.append(reduce(os.path.join(path2, filelist[i+1])))\n",
    "        test_Y_pre.append(reduce(os.path.join(path2, filelist[i+2])))\n",
    "        test_Y_pre.append(reduce(os.path.join(path2, filelist[i+3])))\n",
    "        test_Y_pre.append(reduce(os.path.join(path2, filelist[i+4])))\n",
    "        test_Y_pre.append(reduce(os.path.join(path2, filelist[i+5])))\n",
    "        test_Y_pre.append(reduce(os.path.join(path2, filelist[i+6])))\n",
    "        test_Y_pre.append(reduce(os.path.join(path2, filelist[i+7])))        "
   ]
  },
  {
   "cell_type": "code",
   "execution_count": 3,
   "id": "82d6a650",
   "metadata": {},
   "outputs": [],
   "source": [
    "test_X_pre_array = np.array(test_X_pre)\n",
    "test_Y_pre_array = np.array(test_Y_pre)"
   ]
  },
  {
   "cell_type": "code",
   "execution_count": 17,
   "id": "ff96b502",
   "metadata": {},
   "outputs": [],
   "source": [
    "np.save('F:/test_X_pre.npy', test_X_pre_array)\n",
    "np.save('F:/test_Y_pre.npy', test_Y_pre_array)"
   ]
  },
  {
   "cell_type": "code",
   "execution_count": null,
   "id": "49d96a52",
   "metadata": {},
   "outputs": [],
   "source": []
  }
 ],
 "metadata": {
  "kernelspec": {
   "display_name": "Python 3 (ipykernel)",
   "language": "python",
   "name": "python3"
  },
  "language_info": {
   "codemirror_mode": {
    "name": "ipython",
    "version": 3
   },
   "file_extension": ".py",
   "mimetype": "text/x-python",
   "name": "python",
   "nbconvert_exporter": "python",
   "pygments_lexer": "ipython3",
   "version": "3.9.7"
  }
 },
 "nbformat": 4,
 "nbformat_minor": 5
}
